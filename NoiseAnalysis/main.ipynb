{
 "cells": [
  {
   "cell_type": "code",
   "execution_count": 45,
   "metadata": {},
   "outputs": [],
   "source": [
    "import tools\n",
    "from sympy import *\n",
    "from scipy import signal,constants\n",
    "from numpy import *\n",
    "import sympy\n",
    "import matplotlib.pyplot as plt"
   ]
  },
  {
   "cell_type": "code",
   "execution_count": 46,
   "metadata": {},
   "outputs": [],
   "source": [
    "#Useful functions\n",
    "def parallel_impedance(*arg):\n",
    "    impedances = asarray(arg)\n",
    "    parallel_impedance = 1/sum(1/impedances)\n",
    "    return simplify(parallel_impedance)\n"
   ]
  },
  {
   "cell_type": "markdown",
   "metadata": {},
   "source": [
    "# Introduction\n",
    "\n",
    "This notebook is aimed at the analysis of an Differential and Amplifying circuit meant for Noise and differnetial analysis of transistors.\n",
    "\n",
    "<img src=\"images\\ElectricalCircuitSimplified.PNG \" alt=\"Circuit\" style=\"width:1000px;\"/>\n",
    "\n",
    "## Creation of component variables"
   ]
  },
  {
   "cell_type": "code",
   "execution_count": 47,
   "metadata": {},
   "outputs": [],
   "source": [
    "\n",
    "R1 = Symbol('R1', complex=False)\n",
    "R2 = Symbol('R2', complex=False)\n",
    "R3 = Symbol('R3', complex=False)\n",
    "RG = Symbol('RG', complex=False)\n",
    "\n",
    "def G(RG):\n",
    "    return 1+6e3/RG\n",
    "\n",
    "\n",
    "C1 = Symbol('C1', complex=False)\n",
    "C2 = Symbol('C2', complex=False)\n",
    "C3 = Symbol('C3', complex=False)\n",
    "\n",
    "omega = Symbol('omega', real=True)\n",
    "C1_imp = 1/ (I*omega*C1)\n",
    "C2_imp = 1/ (I*omega*C2)\n",
    "C3_imp = 1/ (I*omega*C3)\n",
    "\n",
    "VDD = Symbol('VDD', complex=False)\n",
    "VSS = Symbol('VSS', complex=False)\n",
    "Vref = Symbol('Vref', complex=False)\n",
    "\n",
    "i_in_p = Symbol('i_in_p', complex=False)\n",
    "i_in_m = Symbol('i_in_m', complex=False)\n"
   ]
  },
  {
   "cell_type": "code",
   "execution_count": 48,
   "metadata": {},
   "outputs": [],
   "source": [
    "num_values = tools.read_yaml_file(tools.config_file)\n",
    "\n",
    "syms_pass = [R1, R2, R3, RG, C1, C2, C3, VDD, VSS, Vref]\n",
    "vals_pass = [num_values['R1'],\n",
    "num_values['R2'],\n",
    "num_values['R3'],\n",
    "num_values['RG'],\n",
    "num_values['C1'],\n",
    "num_values['C2'],\n",
    "num_values['C3'],\n",
    "num_values['VDD'],\n",
    "num_values['VSS'],\n",
    "num_values['Vref']]\n",
    "\n",
    "\n",
    "def get_num_val_passive(expr):\n",
    "    for sym,val in zip(syms_pass,vals_pass):\n",
    "        expr = expr.subs(sym,val)\n",
    "    return expr"
   ]
  },
  {
   "cell_type": "markdown",
   "metadata": {},
   "source": [
    "# Circuit topology\n",
    "\n",
    "The circuit is composed of two stages disposed sequentialy. The first stage apears twice and the both output goes to the two inputs of the second stage.\n",
    "\n",
    "## First stage topology\n",
    "\n",
    "This stage is meant for amplifying and filtering purposes. An Operationnal Amplifier is used as a Transimpedance to convert the input current to an output voltage.\n",
    "\n",
    "The use of a RC loop is for a Low Pass filtering usage. For Noise analysis the cutting frequency is meant to be sufficiently high to get the most beneficial data as possible whilst still being able to concatenate the frequency range. The second purpose of the RC loop is for amplifying the input current to a more tangible voltage for the second stage.\n",
    "\n",
    "Depending on the current direction and the input configuration before this circuit, a Vref voltage can be applyied at the non-inverting entery of the amplifier. This reference voltage is filtered to be as constant as possible with decoupling capacitor.\n",
    "\n",
    "## Second stage topology\n",
    "\n",
    "This second stage will apply the difference between the two ingoing input current. A gain can be useful for some applications but in this second stage one can use a gain equal to 1 if the output readying sensor allows low voltage measurements.\n",
    "\n",
    "This second stage has to have a low input noise voltage has it can not be filter out afterwards (at least int this configuration)."
   ]
  },
  {
   "cell_type": "markdown",
   "metadata": {},
   "source": [
    "# Output Analysis\n",
    "\n",
    "Has the input current can go up to $1mA$, the analysis of the full circuit working range has to be done. In fact, one has to avoid the sturation of both stages amplifiers as it obviously corrupts the data.\n",
    "\n",
    "this is the equivalent of a DC analysis\n"
   ]
  },
  {
   "cell_type": "markdown",
   "metadata": {},
   "source": [
    "\n",
    "## First stage working range\n",
    "\n",
    "The first stage can be moldeled as follows:\n",
    "\n",
    "\n",
    "<img src=\"images\\1stStage.PNG \" alt=\"Circuit\" style=\"width:300px;\"/>\n",
    "\n",
    "Therefore:\n",
    "\n",
    "\\begin{align}\n",
    "    V_{out\\_1} &= i_{in}Z_1 + V_{ref} \\tag{1} \\\\\n",
    "    Z_1 &= R_1 || C_1 \\tag{2}\n",
    "\\end{align}"
   ]
  },
  {
   "cell_type": "code",
   "execution_count": 49,
   "metadata": {},
   "outputs": [
    {
     "name": "stdout",
     "output_type": "stream",
     "text": [
      "V_out_1 = R1*i_in/(I*C1*R1*omega + 1) + Vref\n"
     ]
    }
   ],
   "source": [
    "i_in = Symbol('i_in')\n",
    "Z_1 = parallel_impedance(R1,C1_imp)\n",
    "V_out_1= i_in*Z_1 +Vref\n",
    "V_out_1_DC = V_out_1.subs(I*omega,0)\n",
    "print(\"V_out_1 =\",V_out_1)"
   ]
  },
  {
   "cell_type": "markdown",
   "metadata": {},
   "source": [
    "## Second stage\n",
    "\n",
    "The second stage can be modeled as:\n",
    "\n",
    "<img src=\"images\\2ndStage.PNG \" alt=\"Circuit\" style=\"width:300px;\"/>\n",
    "\n",
    "Therefore:\n",
    "\n",
    "\\begin{align}\n",
    "    \\Delta V_{in} &= V_{in\\_p}-V_{in\\_m} \\tag{3} \\\\\n",
    "    V_{out} &= \\Delta V_{in}G \\tag{4}\n",
    "\\end{align}\n",
    "\n",
    "$G \\equiv G(R_G)$ being the gain depending on $R_G$ gain of the differential amplifier."
   ]
  },
  {
   "cell_type": "code",
   "execution_count": 50,
   "metadata": {},
   "outputs": [
    {
     "name": "stdout",
     "output_type": "stream",
     "text": [
      "V_out = dV_in*(1 + 6000.0/RG)\n"
     ]
    }
   ],
   "source": [
    "dV_in = Symbol('dV_in')\n",
    "\n",
    "V_out_2 = dV_in * G(RG)\n",
    "V_out_2_DC = V_out_2.subs(I*omega,0)\n",
    "print(\"V_out =\",V_out_2)"
   ]
  },
  {
   "cell_type": "markdown",
   "metadata": {},
   "source": [
    "## Full circuit analysis\n",
    "\n",
    "\\begin{align}\n",
    "    V_{in\\_p} &= V_{out\\_1}(i_{in\\_p}) \\tag{5} \\\\\n",
    "    V_{in\\_m} &= V_{out\\_1}(i_{in\\_m}) \\tag{6}\n",
    "\\end{align}\n",
    "\n",
    "Therefor we get $V_{out}$:"
   ]
  },
  {
   "cell_type": "code",
   "execution_count": 51,
   "metadata": {},
   "outputs": [
    {
     "name": "stdout",
     "output_type": "stream",
     "text": [
      "V_out = R1*di_in*(RG + 6000.0)/(RG*(I*C1*R1*omega + 1))\n"
     ]
    }
   ],
   "source": [
    "di_in = Symbol('di_in')\n",
    "V_in_p = V_out_1.subs(i_in,i_in_p)\n",
    "V_in_m = V_out_1.subs(i_in,i_in_m)\n",
    "V_out = simplify(V_out_2.subs(dV_in,V_in_p-V_in_m)).subs(i_in_p-i_in_m,di_in)\n",
    "\n",
    "\n",
    "print(\"V_out =\",V_out)"
   ]
  },
  {
   "cell_type": "markdown",
   "metadata": {},
   "source": [
    "Finally for a DC only input we get:"
   ]
  },
  {
   "cell_type": "code",
   "execution_count": 52,
   "metadata": {},
   "outputs": [
    {
     "name": "stdout",
     "output_type": "stream",
     "text": [
      "V_out_DC = R1*di_in*(RG + 6000.0)/RG\n"
     ]
    }
   ],
   "source": [
    "V_out_DC = V_out.subs(I*omega,0)\n",
    "\n",
    "print(\"V_out_DC =\",V_out_DC)"
   ]
  },
  {
   "cell_type": "code",
   "execution_count": 53,
   "metadata": {},
   "outputs": [
    {
     "name": "stdout",
     "output_type": "stream",
     "text": [
      "6.28318530717959*V_in_c_f_1*V_in_w_N_1/omega\n"
     ]
    }
   ],
   "source": [
    "Z_ref = parallel_impedance(R2,C2,C3)\n",
    "C = Symbol('C')\n",
    "\n",
    "V_in_w_N_1 = Symbol('V_in_w_N_1')\n",
    "i_in_w_N_1 = Symbol('i_in_w_N_1')\n",
    "V_in_c_f_1 = Symbol('V_in_c_f_1')\n",
    "i_in_c_f_1 = Symbol('i_in_c_f_1')\n",
    "V_in_w_N_2 = Symbol('V_in_w_N_2')\n",
    "i_in_w_N_2 = Symbol('i_in_w_N_2')\n",
    "V_in_c_f_2 = Symbol('V_in_c_f_2')\n",
    "i_in_c_f_2 = Symbol('i_in_c_f_2')\n",
    "V_out_N_2 = Symbol('V_out_N_2')\n",
    "T = Symbol('T')\n",
    "\n",
    "syms_noise = [V_in_w_N_1, i_in_w_N_1, V_in_c_f_1, i_in_c_f_1, V_in_w_N_2, i_in_w_N_2, V_in_c_f_2, i_in_c_f_2, V_out_N_2, T]\n",
    "vals_noise = [float(num_values['V_in_w_N_1']),\n",
    "float(num_values['i_in_w_N_1']),\n",
    "2*pi*float(num_values['V_in_c_f_1']),\n",
    "2*pi*float(num_values['i_in_c_f_1']),\n",
    "float(num_values['V_in_w_N_2']),\n",
    "float(num_values['i_in_w_N_2']),\n",
    "2*pi*float(num_values['V_in_c_f_2']),\n",
    "2*pi*float(num_values['i_in_c_f_2']),\n",
    "float(num_values['V_out_N_2']),\n",
    "float(num_values['T'])]\n",
    "\n",
    "def get_num_val_noise(expr):\n",
    "    for sym,val in zip(syms_noise,vals_noise):\n",
    "        expr = expr.subs(sym,val)\n",
    "    return expr\n",
    "\n",
    "\n",
    "V_in_1_f_N_1 = sympy.solve(C/V_in_c_f_1 - V_in_w_N_1,C)[0]/(omega/(2*pi))\n",
    "print(V_in_1_f_N_1)\n",
    "i_in_1_f_N_1 = sympy.solve(C/i_in_c_f_1 - i_in_w_N_1,C)[0]/(omega/(2*pi))\n",
    "V_in_1_f_N_2 = sympy.solve(C/V_in_c_f_2 - V_in_w_N_2,C)[0]/(omega/(2*pi))\n",
    "i_in_1_f_N_2 = sympy.solve(C/i_in_c_f_2 - i_in_w_N_2,C)[0]/(omega/(2*pi))"
   ]
  },
  {
   "cell_type": "markdown",
   "metadata": {},
   "source": [
    "# Transfer functions\n",
    "\n",
    "We will explicitise the transfer function to use it later on."
   ]
  },
  {
   "cell_type": "markdown",
   "metadata": {},
   "source": [
    "## Seen from the first stage"
   ]
  },
  {
   "cell_type": "code",
   "execution_count": 54,
   "metadata": {},
   "outputs": [],
   "source": [
    "tf_1_p_v = 1\n",
    "tf_1_p_i = Z_ref\n",
    "tf_1_m_v = 1\n",
    "tf_1_m_i = V_out/di_in"
   ]
  },
  {
   "cell_type": "markdown",
   "metadata": {},
   "source": [
    "## Seen from the second stage"
   ]
  },
  {
   "cell_type": "code",
   "execution_count": 55,
   "metadata": {},
   "outputs": [],
   "source": [
    "tf_2 = V_out_2/dV_in"
   ]
  },
  {
   "cell_type": "markdown",
   "metadata": {},
   "source": [
    "# Noise from the circuit Analysis\n",
    "\n",
    "The passive and active elements of the circuit bring noise to the data acquirements.\n",
    "\n",
    "According to integration characteristics of the OpAmp of the first stage and the differential amplifier of the second, the equivalent noise circuit is presented has follows:\n",
    "\n",
    "<img src=\"images\\Noisecircuit.PNG \" alt=\"Circuit\" style=\"width:800px;\"/>\n",
    "\n",
    "The noise at the output can be explained as follows:\n",
    "\n",
    "\\begin{align}\n",
    "    S_{n,tot}(f) = \\sqrt{\\sum|H_i(j\\omega)|^2S_{n,i}(\\omega)} \\tag{7}\n",
    "\\end{align}\n"
   ]
  },
  {
   "cell_type": "code",
   "execution_count": 71,
   "metadata": {},
   "outputs": [
    {
     "name": "stdout",
     "output_type": "stream",
     "text": [
      "4 T k \\operatorname{re}{\\left(\\frac{C_{2} C_{3} R_{2}}{C_{2} C_{3} + C_{2} R_{2} + C_{3} R_{2}}\\right)} + \\frac{12000.0 T k}{9.0 \\cdot 10^{-18} \\omega^{2} + 1} + \\frac{12.5663706143592 V_{in c f 1} V_{in w N 1} \\left|{\\frac{C_{2}^{2} C_{3}^{2} R_{2}^{2}}{\\left(C_{2} C_{3} + C_{2} R_{2} + C_{3} R_{2}\\right)^{2}}}\\right|}{\\omega} + 2 V_{in w N 1} \\left|{\\frac{C_{2}^{2} C_{3}^{2} R_{2}^{2}}{\\left(C_{2} C_{3} + C_{2} R_{2} + C_{3} R_{2}\\right)^{2}}}\\right| + 36000000.0 V_{in w N 2} \\left|{\\left(0.000166666666666667 + \\frac{1}{RG}\\right)^{2}}\\right| + V_{out N 2} + \\frac{12.5663706143592 i_{in c f 1} i_{in w N 1} \\left|{\\frac{C_{2}^{2} C_{3}^{2} R_{2}^{2}}{\\left(C_{2} C_{3} + C_{2} R_{2} + C_{3} R_{2}\\right)^{2}}}\\right|}{\\omega} + \\frac{452389342.11693 i_{in c f 1} i_{in w N 1} \\left|{\\frac{R_{1}^{2} \\left(0.000166666666666667 RG + 1\\right)^{2}}{RG^{2} \\left(i C_{1} R_{1} \\omega + 1\\right)^{2}}}\\right|}{\\omega} + \\frac{12.5663706143592 i_{in c f 2} i_{in w N 2}}{\\omega} + 2 i_{in w N 1} \\left|{\\frac{C_{2}^{2} C_{3}^{2} R_{2}^{2}}{\\left(C_{2} C_{3} + C_{2} R_{2} + C_{3} R_{2}\\right)^{2}}}\\right| + 72000000.0 i_{in w N 1} \\left|{\\frac{R_{1}^{2} \\left(0.000166666666666667 RG + 1\\right)^{2}}{RG^{2} \\left(i C_{1} R_{1} \\omega + 1\\right)^{2}}}\\right| + 2 i_{in w N 2}\n"
     ]
    }
   ],
   "source": [
    "def thermal_noise_vsd(impedance,T):\n",
    "    return simplify(4*Symbol('k')*Symbol('T')*re(impedance))\n",
    "\n",
    "Sn_i_H_i = array([\n",
    "    [thermal_noise_vsd(Z_ref,T),tf_1_p_v],\n",
    "    [thermal_noise_vsd(Z_1,T),tf_1_m_v],\n",
    "    [i_in_w_N_1,tf_1_p_i],\n",
    "    [V_in_w_N_1,tf_1_p_i],\n",
    "    [i_in_1_f_N_1,tf_1_p_i],\n",
    "    [V_in_1_f_N_1,tf_1_p_i],\n",
    "    [i_in_w_N_1,tf_1_m_i],\n",
    "    [i_in_w_N_2,tf_1_p_v],\n",
    "    [i_in_1_f_N_1,tf_1_m_i],\n",
    "    [i_in_1_f_N_2,tf_1_p_v],\n",
    "    [i_in_w_N_1,tf_1_p_i],\n",
    "    [V_in_w_N_1,tf_1_p_i],\n",
    "    [i_in_1_f_N_1,tf_1_p_i],\n",
    "    [V_in_1_f_N_1,tf_1_p_i],\n",
    "    [i_in_w_N_1,tf_1_m_i],\n",
    "    [i_in_w_N_2,tf_1_p_v],\n",
    "    [i_in_1_f_N_1,tf_1_m_i],\n",
    "    [i_in_1_f_N_2,tf_1_p_v],\n",
    "    [V_in_w_N_2,tf_2],\n",
    "    [V_out_N_2,1],\n",
    "    # [thermal_noise_vsd(RG,T),1],\n",
    "])\n",
    "Sn_i = Sn_i_H_i[:,0]\n",
    "H_i = Sn_i_H_i[:,1]\n",
    "\n",
    "\n",
    "S_n_tot = absolute(power(H_i,2))@Sn_i\n",
    "print_latex(S_n_tot)\n",
    "S_n_tot_num = together(get_num_val_noise(get_num_val_passive(S_n_tot)))\n",
    "\n",
    "# print(S_n_tot_num)\n",
    "\n",
    "# w = logspace(1,6,num=300)\n",
    "\n",
    "# S_n_tot_num_plot = lambdify(omega, absolute(S_n_tot_num), \"numpy\")\n",
    "\n",
    "# plt.figure()\n",
    "# plt.semilogx(w, sqrt(S_n_tot_num_plot(w)))    # Bode magnitude plot\n",
    "# print(float(S_n_tot_num.subs(omega,2)))\n"
   ]
  },
  {
   "cell_type": "code",
   "execution_count": 72,
   "metadata": {},
   "outputs": [
    {
     "data": {
      "text/latex": [
       "$\\displaystyle \\frac{12000.0 T k \\omega + \\omega \\left(9.0 \\cdot 10^{-18} \\omega^{2} + 1\\right) \\left(4 T k \\operatorname{re}{\\left(\\frac{C_{2} C_{3} R_{2}}{C_{2} C_{3} + C_{2} R_{2} + C_{3} R_{2}}\\right)} + 2 V_{in w N 1} \\left|{\\frac{C_{2}^{2} C_{3}^{2} R_{2}^{2}}{\\left(C_{2} C_{3} + C_{2} R_{2} + C_{3} R_{2}\\right)^{2}}}\\right| + 36000000.0 V_{in w N 2} \\left|{\\frac{\\left(0.000166666666666667 RG + 1\\right)^{2}}{RG^{2}}}\\right| + V_{out N 2} + 2 i_{in w N 1} \\left|{\\frac{C_{2}^{2} C_{3}^{2} R_{2}^{2}}{\\left(C_{2} C_{3} + C_{2} R_{2} + C_{3} R_{2}\\right)^{2}}}\\right| + 72000000.0 i_{in w N 1} \\left|{\\frac{R_{1}^{2} \\left(0.000166666666666667 RG + 1\\right)^{2}}{RG^{2} \\left(i C_{1} R_{1} \\omega + 1\\right)^{2}}}\\right| + 2 i_{in w N 2}\\right) + \\left(9.0 \\cdot 10^{-18} \\omega^{2} + 1\\right) \\left(12.5663706143592 V_{in c f 1} V_{in w N 1} \\left|{\\frac{C_{2}^{2} C_{3}^{2} R_{2}^{2}}{\\left(C_{2} C_{3} + C_{2} R_{2} + C_{3} R_{2}\\right)^{2}}}\\right| + 12.5663706143592 i_{in c f 1} i_{in w N 1} \\left|{\\frac{C_{2}^{2} C_{3}^{2} R_{2}^{2}}{\\left(C_{2} C_{3} + C_{2} R_{2} + C_{3} R_{2}\\right)^{2}}}\\right| + 452389342.11693 i_{in c f 1} i_{in w N 1} \\left|{\\frac{R_{1}^{2} \\left(0.000166666666666667 RG + 1\\right)^{2}}{RG^{2} \\left(i C_{1} R_{1} \\omega + 1\\right)^{2}}}\\right| + 12.5663706143592 i_{in c f 2} i_{in w N 2}\\right)}{\\omega \\left(9.0 \\cdot 10^{-18} \\omega^{2} + 1\\right)}$"
      ],
      "text/plain": [
       "(12000.0*T*k*omega + omega*(9.0e-18*omega**2 + 1)*(4*T*k*re(C2*C3*R2/(C2*C3 + C2*R2 + C3*R2)) + 2*V_in_w_N_1*Abs(C2**2*C3**2*R2**2/(C2*C3 + C2*R2 + C3*R2)**2) + 36000000.0*V_in_w_N_2*Abs((0.000166666666666667*RG + 1)**2/RG**2) + V_out_N_2 + 2*i_in_w_N_1*Abs(C2**2*C3**2*R2**2/(C2*C3 + C2*R2 + C3*R2)**2) + 72000000.0*i_in_w_N_1*Abs(R1**2*(0.000166666666666667*RG + 1)**2/(RG**2*(I*C1*R1*omega + 1)**2)) + 2*i_in_w_N_2) + (9.0e-18*omega**2 + 1)*(12.5663706143592*V_in_c_f_1*V_in_w_N_1*Abs(C2**2*C3**2*R2**2/(C2*C3 + C2*R2 + C3*R2)**2) + 12.5663706143592*i_in_c_f_1*i_in_w_N_1*Abs(C2**2*C3**2*R2**2/(C2*C3 + C2*R2 + C3*R2)**2) + 452389342.11693*i_in_c_f_1*i_in_w_N_1*Abs(R1**2*(0.000166666666666667*RG + 1)**2/(RG**2*(I*C1*R1*omega + 1)**2)) + 12.5663706143592*i_in_c_f_2*i_in_w_N_2))/(omega*(9.0e-18*omega**2 + 1))"
      ]
     },
     "execution_count": 72,
     "metadata": {},
     "output_type": "execute_result"
    }
   ],
   "source": [
    "S_n_tot.simplify()"
   ]
  },
  {
   "cell_type": "markdown",
   "metadata": {},
   "source": [
    "# Swipping Range Analysis\n",
    "\n",
    "The OpAmp are powered by VDD and VSS. We know that if the output is suppose to be higher than VDD or loweer than VSS the OpAmp will saturate at the boundary."
   ]
  },
  {
   "cell_type": "markdown",
   "metadata": {},
   "source": [
    "## First stage working range"
   ]
  },
  {
   "cell_type": "code",
   "execution_count": 57,
   "metadata": {},
   "outputs": [
    {
     "name": "stdout",
     "output_type": "stream",
     "text": [
      "<class 'numpy.ndarray'>\n"
     ]
    },
    {
     "data": {
      "text/plain": [
       "[<matplotlib.lines.Line2D at 0x2055b4d9d00>]"
      ]
     },
     "execution_count": 57,
     "metadata": {},
     "output_type": "execute_result"
    },
    {
     "data": {
      "image/png": "[encoded data removed]",
      "text/plain": [
       "<Figure size 640x480 with 1 Axes>"
      ]
     },
     "metadata": {},
     "output_type": "display_data"
    }
   ],
   "source": [
    "V_out_1_DC_num = get_num_val_passive(V_out_1_DC)\n",
    "\n",
    "nb_points_plot = 2\n",
    "i_wide_range = [-1e-3,1e-3]\n",
    "i_plot = linspace(*i_wide_range,nb_points_plot)\n",
    "V_out_1_DC_num = lambdify(i_in, V_out_1_DC_num, \"numpy\")\n",
    "print(type(V_out_1_DC_num(i_plot)))\n",
    "plt.plot(i_plot,V_out_1_DC_num(i_plot))\n"
   ]
  },
  {
   "cell_type": "markdown",
   "metadata": {},
   "source": [
    "# Numerical application"
   ]
  },
  {
   "cell_type": "code",
   "execution_count": null,
   "metadata": {},
   "outputs": [],
   "source": [
    "\n"
   ]
  },
  {
   "cell_type": "code",
   "execution_count": 58,
   "metadata": {},
   "outputs": [
    {
     "data": {
      "image/png": "[encoded data removed]",
      "text/plain": [
       "<Figure size 640x480 with 1 Axes>"
      ]
     },
     "metadata": {},
     "output_type": "display_data"
    },
    {
     "data": {
      "image/png": "[encoded data removed]",
      "text/plain": [
       "<Figure size 640x480 with 1 Axes>"
      ]
     },
     "metadata": {},
     "output_type": "display_data"
    }
   ],
   "source": [
    "Z_1 = get_num_val_passive(Z_1)\n",
    "zeros,poles = fraction(Z_1)\n",
    "zeros_coeff = [float(absolute(coeff)) for coeff in Poly(zeros,omega).all_coeffs()]\n",
    "poles_coeff = [float(absolute(coeff)) for coeff in Poly(poles,omega).all_coeffs()]\n",
    "\n",
    "stage1_tf = signal.TransferFunction(zeros_coeff,poles_coeff)\n",
    "w, mag, phase = signal.bode(stage1_tf)\n",
    "\n",
    "plt.figure()\n",
    "plt.semilogx(w, mag)    # Bode magnitude plot\n",
    "plt.figure()\n",
    "plt.semilogx(w, phase)  # Bode phase plot\n",
    "plt.show()"
   ]
  },
  {
   "cell_type": "code",
   "execution_count": 59,
   "metadata": {},
   "outputs": [
    {
     "name": "stdout",
     "output_type": "stream",
     "text": [
      "-0.00166666666666667 0.00166666666666667\n"
     ]
    }
   ],
   "source": [
    "V_out_1_DC_sat_p = get_num_val_passive(V_out_1_DC-VDD)\n",
    "V_out_1_DC_sat_m = get_num_val_passive(V_out_1_DC-VSS)\n",
    "i_min_1 = min([solve(V_out_1_DC_sat_m),solve(V_out_1_DC_sat_p)])[0]\n",
    "i_max_1 = max([solve(V_out_1_DC_sat_m),solve(V_out_1_DC_sat_p)])[0]\n",
    "print(i_min_1,i_max_1)"
   ]
  }
 ],
 "metadata": {
  "kernelspec": {
   "display_name": "Python 3.9.6 ('.venv': venv)",
   "language": "python",
   "name": "python3"
  },
  "language_info": {
   "codemirror_mode": {
    "name": "ipython",
    "version": 3
   },
   "file_extension": ".py",
   "mimetype": "text/x-python",
   "name": "python",
   "nbconvert_exporter": "python",
   "pygments_lexer": "ipython3",
   "version": "3.9.6"
  },
  "orig_nbformat": 4,
  "vscode": {
   "interpreter": {
    "hash": "e4d93bdb978bc92b95fd1097b09603f1192ac20c9650fdfa9dcb64363784201d"
   }
  }
 },
 "nbformat": 4,
 "nbformat_minor": 2
}
