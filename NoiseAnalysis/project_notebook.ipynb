{
 "cells": [
  {
   "cell_type": "code",
   "execution_count": 490,
   "metadata": {},
   "outputs": [],
   "source": [
    "import tools\n",
    "import numpy as np\n",
    "import scipy as sc\n",
    "import sympy as sp\n",
    "import matplotlib.pyplot as plt\n",
    "import IPython.display as disp"
   ]
  },
  {
   "cell_type": "code",
   "execution_count": 491,
   "metadata": {},
   "outputs": [],
   "source": [
    "# My symbol Class\n",
    "\n",
    "class MySymbol(sp.Symbol):\n",
    "    _eq_n = 0\n",
    "\n",
    "    @classmethod\n",
    "    def set_eq_n(self, value):\n",
    "        self._eq_n = value\n",
    "\n",
    "    def get_eq_n(self):\n",
    "        return self._eq_n\n",
    "\n",
    "    eq_n = property(get_eq_n, set_eq_n)\n",
    "\n",
    "    def __new__(cls, name, expr=None):\n",
    "        obj = sp.Symbol.__new__(cls, name)\n",
    "        obj.name = name\n",
    "        if isinstance(expr,str):\n",
    "            obj.expr = sp.Symbol.__new__(cls, expr)\n",
    "        elif expr is None:\n",
    "            obj.expr = obj\n",
    "        else:\n",
    "            obj.expr = expr\n",
    "        return obj\n",
    "    \n",
    "    def subs(self, *args, **kwargs):\n",
    "        new_expr = self.expr.subs(*args, **kwargs)\n",
    "        return MySymbol(self.name,new_expr)\n",
    "    \n",
    "    def get_expr(self,*args,simplify=False):\n",
    "        expr = self.expr\n",
    "        for arg in args:\n",
    "            if isinstance(arg,MySymbol):\n",
    "                expr = expr.subs(arg,arg.expr)\n",
    "        if simplify:\n",
    "            expr = sp.simplify(expr)\n",
    "        return expr\n",
    "\n",
    "    def get_expr_all(self,*args,simplify=False):\n",
    "        expr = self.expr\n",
    "        symbols = list(self.expr.free_symbols)\n",
    "        for symbol in symbols:\n",
    "            if isinstance(symbol,MySymbol) and symbol not in args:\n",
    "                expr = expr.subs(symbol,symbol.get_expr_all(*args))\n",
    "        if simplify:\n",
    "            expr = sp.simplify(expr)\n",
    "        return expr\n",
    "    \n",
    "    def print_expr(self,*args,simplify=False,pre_print=''):\n",
    "        expr = self.get_expr(*args,simplify)\n",
    "        self.display(expr,pre_print)\n",
    "\n",
    "    \n",
    "    def print_expr_all(self,*args,simplify=False,pre_print=''):\n",
    "        expr = self.get_expr_all(*args,simplify)\n",
    "        self.display(expr,pre_print)\n",
    "        \n",
    "    def display(self,expr,pre_print=''):\n",
    "        if pre_print != '':\n",
    "            print(f'({self.eq_n}{pre_print}):')\n",
    "        else:\n",
    "            self.set_eq_n(self.get_eq_n()+1)\n",
    "            print(f'({self.eq_n}):')\n",
    "        disp.display(sp.Eq(self,expr))\n",
    "        print()\n",
    "\n",
    "\n",
    "# Useful functions\n",
    "def parallel_impedance(*arg):\n",
    "    impedances = np.asarray(arg)\n",
    "    parallel_impedance = 1/np.sum(1/impedances)\n",
    "    return sp.simplify(parallel_impedance)\n",
    "\n",
    "def get_omega(f):\n",
    "    return 2*sp.pi*f\n",
    "\n",
    "# AC Symbols\n",
    "f = sp.Symbol('f')\n",
    "omega = MySymbol('\\\\omega',get_omega(f))\n",
    "s = MySymbol('s',sp.I*omega)\n",
    "\n",
    "    "
   ]
  },
  {
   "cell_type": "markdown",
   "metadata": {},
   "source": [
    "# Project noteboook\n",
    "\n",
    "See complementary information in the Project manuscript."
   ]
  },
  {
   "cell_type": "code",
   "execution_count": 492,
   "metadata": {},
   "outputs": [],
   "source": [
    "# Component Symbols\n",
    "R1 = sp.Symbol('R1', real=True)\n",
    "C1 = sp.Symbol('C1', real=True)\n",
    "C1s = 1/(s*C1)\n",
    "\n",
    "\n",
    "R2 = sp.Symbol('R2', real=True)\n",
    "C2 = sp.Symbol('C2', real=True)\n",
    "C2s = 1/(s*C2)\n",
    "\n",
    "RG = sp.Symbol('R_G', real=True)\n",
    "\n",
    "i_inp = sp.Symbol('i_in,p')\n",
    "i_inm = sp.Symbol('i_in,m')\n",
    "\n",
    "V_ref = sp.Symbol('V_ref')\n",
    "V_out = MySymbol('V_out')"
   ]
  },
  {
   "cell_type": "markdown",
   "metadata": {},
   "source": [
    "## Circuit Analysis"
   ]
  },
  {
   "cell_type": "code",
   "execution_count": 493,
   "metadata": {},
   "outputs": [],
   "source": [
    "# OpAmp non-idealities\n",
    "def A(s,A_0,omega_c):\n",
    "    return A_0/(1+s/omega_c)\n",
    "\n",
    "class OpAmp:\n",
    "    def __init__(self,name):\n",
    "        self.name = name\n",
    "        self.A_0 = sp.Symbol(f'A_0,{self.name}')\n",
    "        self.omega_c = sp.Symbol(f'\\\\omega_c,{self.name}')\n",
    "        self.A = MySymbol(f'A_{self.name}',A(s,self.A_0,self.omega_c))\n",
    "\n",
    "        self.s_n_v_in_white = MySymbol(f'S_{{n,v_{{in}},white,{self.name}}}')\n",
    "        self.s_n_i_in_white = MySymbol(f'S_{{n,i_{{in}},white,{self.name}}}')\n",
    "\n",
    "        self.f_c_n_v_in = sp.Symbol(f'f_{{c,n,v_{{in}},{self.name}}}')\n",
    "        self.f_c_n_i_in = sp.Symbol(f'f_{{c,n,i_{{in}},{self.name}}}')\n",
    "\n",
    "        self.s_n_v_in_1_omega_white = None\n",
    "        self.s_n_i_in_1_omega_white = None\n",
    "\n",
    "        "
   ]
  },
  {
   "cell_type": "markdown",
   "metadata": {},
   "source": [
    "### C1"
   ]
  },
  {
   "cell_type": "code",
   "execution_count": 494,
   "metadata": {},
   "outputs": [
    {
     "name": "stdout",
     "output_type": "stream",
     "text": [
      "(1):\n"
     ]
    },
    {
     "data": {
      "text/latex": [
       "$\\displaystyle V_{m} = V_{out 1} - \\frac{R_{1} i_{in}}{s C_{1} R_{1} + 1}$"
      ],
      "text/plain": [
       "Eq(V_m, V_out_1 - R1*i_in/(s*C1*R1 + 1))"
      ]
     },
     "metadata": {},
     "output_type": "display_data"
    },
    {
     "name": "stdout",
     "output_type": "stream",
     "text": [
      "\n",
      "(2):\n"
     ]
    },
    {
     "data": {
      "text/latex": [
       "$\\displaystyle V_{p} = \\frac{V_{ref}}{s C_{2} \\left(R_{2} + \\frac{1}{s C_{2}}\\right)}$"
      ],
      "text/plain": [
       "Eq(V_p, V_ref/(s*C2*(R2 + 1/(s*C2))))"
      ]
     },
     "metadata": {},
     "output_type": "display_data"
    },
    {
     "name": "stdout",
     "output_type": "stream",
     "text": [
      "\n",
      "(3):\n"
     ]
    },
    {
     "data": {
      "text/latex": [
       "$\\displaystyle A_{OP1} = \\frac{A_{0,OP1}}{\\frac{s}{\\omega_{c,OP1}} + 1}$"
      ],
      "text/plain": [
       "Eq(A_OP1, A_0,OP1/(s/\\omega_c,OP1 + 1))"
      ]
     },
     "metadata": {},
     "output_type": "display_data"
    },
    {
     "name": "stdout",
     "output_type": "stream",
     "text": [
      "\n",
      "(4):\n"
     ]
    },
    {
     "data": {
      "text/latex": [
       "$\\displaystyle V_{out 1} = A_{OP1} \\left(- V_{m} + V_{p}\\right)$"
      ],
      "text/plain": [
       "Eq(V_out_1, A_OP1*(-V_m + V_p))"
      ]
     },
     "metadata": {},
     "output_type": "display_data"
    },
    {
     "name": "stdout",
     "output_type": "stream",
     "text": [
      "\n",
      "(5):\n"
     ]
    },
    {
     "data": {
      "text/latex": [
       "$\\displaystyle V_{out 1} = \\frac{A_{OP1} \\left(R_{1} i_{in} \\left(s C_{2} R_{2} + 1\\right) + V_{ref} \\left(s C_{1} R_{1} + 1\\right)\\right)}{\\left(A_{OP1} + 1\\right) \\left(s C_{1} R_{1} + 1\\right) \\left(s C_{2} R_{2} + 1\\right)}$"
      ],
      "text/plain": [
       "Eq(V_out_1, A_OP1*(R1*i_in*(s*C2*R2 + 1) + V_ref*(s*C1*R1 + 1))/((A_OP1 + 1)*(s*C1*R1 + 1)*(s*C2*R2 + 1)))"
      ]
     },
     "metadata": {},
     "output_type": "display_data"
    },
    {
     "name": "stdout",
     "output_type": "stream",
     "text": [
      "\n",
      "(5'):\n"
     ]
    },
    {
     "data": {
      "text/latex": [
       "$\\displaystyle V_{out 1} = \\frac{A_{OP1} R_{1} i_{in}}{\\left(A_{OP1} + 1\\right) \\left(s C_{1} R_{1} + 1\\right)}$"
      ],
      "text/plain": [
       "Eq(V_out_1, A_OP1*R1*i_in/((A_OP1 + 1)*(s*C1*R1 + 1)))"
      ]
     },
     "metadata": {},
     "output_type": "display_data"
    },
    {
     "name": "stdout",
     "output_type": "stream",
     "text": [
      "\n",
      "(5'*):\n"
     ]
    },
    {
     "data": {
      "text/latex": [
       "$\\displaystyle H_{1}(s) = \\frac{A_{OP1} R_{1}}{\\left(A_{OP1} + 1\\right) \\left(s C_{1} R_{1} + 1\\right)}$"
      ],
      "text/plain": [
       "Eq(H_{1}(s), A_OP1*R1/((A_OP1 + 1)*(s*C1*R1 + 1)))"
      ]
     },
     "metadata": {},
     "output_type": "display_data"
    },
    {
     "name": "stdout",
     "output_type": "stream",
     "text": [
      "\n"
     ]
    }
   ],
   "source": [
    "i_in = sp.Symbol('i_in')\n",
    "V_out_1 = MySymbol('V_out_1')\n",
    "\n",
    "Vm = MySymbol('V_m',V_out_1 - i_in * parallel_impedance(R1,C1s))\n",
    "Vp = MySymbol('V_p',V_ref * (C2s/(R2+C2s)))\n",
    "Vm.print_expr()\n",
    "Vp.print_expr()\n",
    "\n",
    "OP1 = OpAmp('OP1')\n",
    "OP1.A.print_expr()\n",
    "\n",
    "V_out_1.expr = (Vp-Vm)*OP1.A\n",
    "V_out_1.print_expr()\n",
    "V_out_1.expr = sp.simplify(sp.collect(sp.collect(sp.factor(sp.solve(V_out_1-V_out_1.get_expr(Vm,Vp),V_out_1)[0]),i_in),V_ref))\n",
    "V_out_1.print_expr()\n",
    "\n",
    "V_out_1_prime = V_out_1.subs(V_ref,0)\n",
    "V_out_1_prime.print_expr(pre_print=\"'\")\n",
    "\n",
    "H_1 = MySymbol('H_{1}(s)', V_out_1.expr/i_in)\n",
    "H_1.print_expr(pre_print=\"'*\")\n"
   ]
  },
  {
   "cell_type": "markdown",
   "metadata": {},
   "source": [
    "### C2"
   ]
  },
  {
   "cell_type": "code",
   "execution_count": 495,
   "metadata": {},
   "outputs": [
    {
     "name": "stdout",
     "output_type": "stream",
     "text": [
      "(6):\n"
     ]
    },
    {
     "data": {
      "text/latex": [
       "$\\displaystyle G(R_{G}) = 1 + \\frac{6000.0}{R_{G}}$"
      ],
      "text/plain": [
       "Eq(G(R_{G}), 1 + 6000.0/R_G)"
      ]
     },
     "metadata": {},
     "output_type": "display_data"
    },
    {
     "name": "stdout",
     "output_type": "stream",
     "text": [
      "\n",
      "(7):\n"
     ]
    },
    {
     "data": {
      "text/latex": [
       "$\\displaystyle A_{OP2} = \\frac{A_{0,OP2}}{\\frac{s}{\\omega_{c,OP2}} + 1}$"
      ],
      "text/plain": [
       "Eq(A_OP2, A_0,OP2/(s/\\omega_c,OP2 + 1))"
      ]
     },
     "metadata": {},
     "output_type": "display_data"
    },
    {
     "name": "stdout",
     "output_type": "stream",
     "text": [
      "\n",
      "(8):\n"
     ]
    },
    {
     "data": {
      "text/latex": [
       "$\\displaystyle \\Delta V_{in} = - V_{in,m} + V_{in,p}$"
      ],
      "text/plain": [
       "Eq(\\Delta V_in, -V_{in,m} + V_{in,p})"
      ]
     },
     "metadata": {},
     "output_type": "display_data"
    },
    {
     "name": "stdout",
     "output_type": "stream",
     "text": [
      "\n",
      "(9):\n"
     ]
    },
    {
     "data": {
      "text/latex": [
       "$\\displaystyle V_{out} = A_{OP2} G(R_{G}) \\Delta V_{in}$"
      ],
      "text/plain": [
       "Eq(V_out, A_OP2*G(R_{G})*\\Delta V_in)"
      ]
     },
     "metadata": {},
     "output_type": "display_data"
    },
    {
     "name": "stdout",
     "output_type": "stream",
     "text": [
      "\n",
      "(9'*):\n"
     ]
    },
    {
     "data": {
      "text/latex": [
       "$\\displaystyle H_{2}(s) = A_{OP2} G(R_{G})$"
      ],
      "text/plain": [
       "Eq(H_{2}(s), A_OP2*G(R_{G}))"
      ]
     },
     "metadata": {},
     "output_type": "display_data"
    },
    {
     "name": "stdout",
     "output_type": "stream",
     "text": [
      "\n"
     ]
    }
   ],
   "source": [
    "V_in_p = MySymbol('V_{in,p}')\n",
    "V_in_m = MySymbol('V_{in,m}')\n",
    "V_out = MySymbol('V_out')\n",
    "\n",
    "# AD8429\n",
    "def Gain(RG):\n",
    "    return 1+ 6e3/RG\n",
    "\n",
    "G = MySymbol('G(R_{G})',Gain(RG))\n",
    "G.print_expr()\n",
    "\n",
    "OP2 = OpAmp('OP2')\n",
    "OP2.A.print_expr()\n",
    "\n",
    "dV_in = MySymbol('\\\\Delta V_in',V_in_p-V_in_m)\n",
    "dV_in.print_expr()\n",
    "\n",
    "V_out.expr = (V_in_p-V_in_m)*OP2.A*G\n",
    "V_out.expr = V_out.expr.subs(dV_in.expr,dV_in)\n",
    "V_out.print_expr()\n",
    "\n",
    "H_2 = MySymbol('H_{2}(s)', V_out.expr/dV_in)\n",
    "H_2.print_expr(pre_print=\"'*\")"
   ]
  },
  {
   "cell_type": "markdown",
   "metadata": {},
   "source": [
    "### Ctot"
   ]
  },
  {
   "cell_type": "code",
   "execution_count": 496,
   "metadata": {},
   "outputs": [
    {
     "name": "stdout",
     "output_type": "stream",
     "text": [
      "(10):\n"
     ]
    },
    {
     "data": {
      "text/latex": [
       "$\\displaystyle V_{out1,p} = V_{out1}(i_{inp})$"
      ],
      "text/plain": [
       "Eq(V_out1,p, V_{out1}(i_{inp}))"
      ]
     },
     "metadata": {},
     "output_type": "display_data"
    },
    {
     "name": "stdout",
     "output_type": "stream",
     "text": [
      "\n",
      "(10'):\n"
     ]
    },
    {
     "data": {
      "text/latex": [
       "$\\displaystyle V_{out1,m} = V_{out1}(i_{inm})$"
      ],
      "text/plain": [
       "Eq(V_out1,m, V_{out1}(i_{inm}))"
      ]
     },
     "metadata": {},
     "output_type": "display_data"
    },
    {
     "name": "stdout",
     "output_type": "stream",
     "text": [
      "\n",
      "(11):\n"
     ]
    },
    {
     "data": {
      "text/latex": [
       "$\\displaystyle V_{in,p} = V_{out1,p}$"
      ],
      "text/plain": [
       "Eq(V_{in,p}, V_out1,p)"
      ]
     },
     "metadata": {},
     "output_type": "display_data"
    },
    {
     "name": "stdout",
     "output_type": "stream",
     "text": [
      "\n",
      "(11'):\n"
     ]
    },
    {
     "data": {
      "text/latex": [
       "$\\displaystyle V_{in,m} = V_{out1,m}$"
      ],
      "text/plain": [
       "Eq(V_{in,m}, V_out1,m)"
      ]
     },
     "metadata": {},
     "output_type": "display_data"
    },
    {
     "name": "stdout",
     "output_type": "stream",
     "text": [
      "\n",
      "(12):\n"
     ]
    },
    {
     "data": {
      "text/latex": [
       "$\\displaystyle \\Delta V_{in} = \\frac{A_{OP1} R_{1} \\left(- i_{in,m} + i_{in,p}\\right)}{\\left(A_{OP1} + 1\\right) \\left(s C_{1} R_{1} + 1\\right)}$"
      ],
      "text/plain": [
       "Eq(\\Delta V_in, A_OP1*R1*(-i_in,m + i_in,p)/((A_OP1 + 1)*(s*C1*R1 + 1)))"
      ]
     },
     "metadata": {},
     "output_type": "display_data"
    },
    {
     "name": "stdout",
     "output_type": "stream",
     "text": [
      "\n",
      "(13):\n"
     ]
    },
    {
     "data": {
      "text/latex": [
       "$\\displaystyle \\Delta i_{in} = - i_{in,m} + i_{in,p}$"
      ],
      "text/plain": [
       "Eq(\\Delta i_in, -i_in,m + i_in,p)"
      ]
     },
     "metadata": {},
     "output_type": "display_data"
    },
    {
     "name": "stdout",
     "output_type": "stream",
     "text": [
      "\n",
      "(14):\n"
     ]
    },
    {
     "data": {
      "text/latex": [
       "$\\displaystyle V_{out} = \\frac{A_{OP1} A_{OP2} G(R_{G}) \\Delta i_{in} R_{1}}{\\left(A_{OP1} + 1\\right) \\left(s C_{1} R_{1} + 1\\right)}$"
      ],
      "text/plain": [
       "Eq(V_out, A_OP1*A_OP2*G(R_{G})*\\Delta i_in*R1/((A_OP1 + 1)*(s*C1*R1 + 1)))"
      ]
     },
     "metadata": {},
     "output_type": "display_data"
    },
    {
     "name": "stdout",
     "output_type": "stream",
     "text": [
      "\n",
      "(14'*):\n"
     ]
    },
    {
     "data": {
      "text/latex": [
       "$\\displaystyle H_{tot}(s) = \\frac{A_{OP1} A_{OP2} G(R_{G}) R_{1}}{\\left(A_{OP1} + 1\\right) \\left(s C_{1} R_{1} + 1\\right)}$"
      ],
      "text/plain": [
       "Eq(H_{tot}(s), A_OP1*A_OP2*G(R_{G})*R1/((A_OP1 + 1)*(s*C1*R1 + 1)))"
      ]
     },
     "metadata": {},
     "output_type": "display_data"
    },
    {
     "name": "stdout",
     "output_type": "stream",
     "text": [
      "\n"
     ]
    }
   ],
   "source": [
    "V_out_1_p = MySymbol('V_out1,p','V_{out1}(i_{inp})')\n",
    "V_out_1_m = MySymbol('V_out1,m','V_{out1}(i_{inm})')\n",
    "V_out_1_p.print_expr()\n",
    "V_out_1_m.print_expr(pre_print=\"'\")\n",
    "\n",
    "V_in_p.expr = V_out_1_p\n",
    "V_in_m.expr = V_out_1_m\n",
    "V_in_p.print_expr()\n",
    "V_in_m.print_expr(pre_print=\"'\")\n",
    "\n",
    "dV_in.expr = sp.simplify(V_out_1.expr.subs(i_in,i_inp) - V_out_1.expr.subs(i_in,i_inm))\n",
    "dV_in.print_expr()\n",
    "\n",
    "di_in = MySymbol('\\\\Delta i_in',i_inp-i_inm)\n",
    "di_in.print_expr()\n",
    "\n",
    "V_out.expr = sp.simplify(V_out.expr.subs(dV_in,dV_in.expr))\n",
    "V_out.expr = V_out.expr.subs(di_in.expr,di_in)\n",
    "V_out.print_expr()\n",
    "\n",
    "H_tot = MySymbol('H_{tot}(s)', V_out.expr/di_in)\n",
    "H_tot.print_expr(pre_print=\"'*\")"
   ]
  },
  {
   "cell_type": "markdown",
   "metadata": {},
   "source": [
    "## Noise Analysis"
   ]
  },
  {
   "cell_type": "code",
   "execution_count": 497,
   "metadata": {},
   "outputs": [],
   "source": [
    "k = sp.Symbol('k')\n",
    "T = sp.Symbol('T')\n",
    "\n",
    "def n_thermal_v_sd(Z):\n",
    "    R = sp.re(Z)\n",
    "    if R == float('inf'):\n",
    "        return 0\n",
    "    return 4*k*T*R\n",
    "\n",
    "def new_thermal_v_sd(Z):\n",
    "    return MySymbol(f'S_{{TN({Z.name}),v}}', n_thermal_v_sd(Z))"
   ]
  },
  {
   "cell_type": "code",
   "execution_count": 498,
   "metadata": {},
   "outputs": [
    {
     "name": "stdout",
     "output_type": "stream",
     "text": [
      "(15):\n"
     ]
    },
    {
     "data": {
      "text/latex": [
       "$\\displaystyle S_{n,v_{in},OP1}(\\omega) = S_{n,v_{in},white,OP1} + \\frac{2 S_{n,v_{in},white,OP1} \\pi f_{c,n,v_{in},OP1}}{\\omega}$"
      ],
      "text/plain": [
       "Eq(S_{n,v_{in},OP1}(\\omega), S_{n,v_{in},white,OP1} + 2*S_{n,v_{in},white,OP1}*pi*f_{c,n,v_{in},OP1}/\\omega)"
      ]
     },
     "metadata": {},
     "output_type": "display_data"
    },
    {
     "name": "stdout",
     "output_type": "stream",
     "text": [
      "\n",
      "(15'):\n"
     ]
    },
    {
     "data": {
      "text/latex": [
       "$\\displaystyle S_{n,i_{in},OP1}(\\omega) = S_{n,i_{in},white,OP1} + \\frac{2 S_{n,i_{in},white,OP1} \\pi f_{c,n,i_{in},OP1}}{\\omega}$"
      ],
      "text/plain": [
       "Eq(S_{n,i_{in},OP1}(\\omega), S_{n,i_{in},white,OP1} + 2*S_{n,i_{in},white,OP1}*pi*f_{c,n,i_{in},OP1}/\\omega)"
      ]
     },
     "metadata": {},
     "output_type": "display_data"
    },
    {
     "name": "stdout",
     "output_type": "stream",
     "text": [
      "\n"
     ]
    }
   ],
   "source": [
    "def get_s_n_1_f(f,f_c,white_noise):\n",
    "    C = sp.Symbol('C')\n",
    "    n_1_f_sd = sp.solve(C/f_c - white_noise,C)[0]/f\n",
    "    return n_1_f_sd\n",
    "\n",
    "def get_s_n_1_omega(omega,f_c,white_noise):\n",
    "    return get_s_n_1_f(omega,get_omega(f_c),white_noise)\n",
    "\n",
    "def get_s_n_1_omega_white(omega,f_c,white_noise):\n",
    "    return get_s_n_1_omega(omega,f_c,white_noise) + white_noise\n",
    "\n",
    "def set_s_n_v_in_1_omega_white(self):\n",
    "    self.s_n_v_in_1_omega_white = MySymbol(f'S_{{n,v_{{in}},{self.name}}}(\\\\omega)',get_s_n_1_omega_white(omega,self.f_c_n_v_in,self.s_n_v_in_white))\n",
    "setattr(OpAmp, 'set_s_n_v_in_1_omega_white', set_s_n_v_in_1_omega_white)\n",
    "\n",
    "def set_s_n_i_in_1_omega_white(self):\n",
    "    self.s_n_i_in_1_omega_white = MySymbol(f'S_{{n,i_{{in}},{self.name}}}(\\\\omega)',get_s_n_1_omega_white(omega,self.f_c_n_i_in,self.s_n_i_in_white))\n",
    "setattr(OpAmp, 'set_s_n_i_in_1_omega_white', set_s_n_i_in_1_omega_white)\n",
    "\n",
    "OP1.set_s_n_v_in_1_omega_white()\n",
    "OP1.set_s_n_i_in_1_omega_white()\n",
    "OP2.set_s_n_v_in_1_omega_white()\n",
    "OP2.set_s_n_i_in_1_omega_white()\n",
    "\n",
    "OP1.s_n_v_in_1_omega_white.print_expr()\n",
    "OP1.s_n_i_in_1_omega_white.print_expr(pre_print=\"'\")"
   ]
  },
  {
   "cell_type": "code",
   "execution_count": 499,
   "metadata": {},
   "outputs": [],
   "source": [
    "OP2.s_n_v_out_white = sp.Symbol(f'S_{{n,v_{{out}},white,{OP2.name}}}')"
   ]
  },
  {
   "cell_type": "code",
   "execution_count": 500,
   "metadata": {},
   "outputs": [],
   "source": [
    "noise_dict_template = {'Noise Spectral Density': None,\n",
    "                       'Transfer Function': None}\n",
    "\n",
    "def new_noise(sn,H_expr):\n",
    "    H = MySymbol(sn.name.replace('S_','H_').removesuffix('(s)')+'(s)',H_expr)\n",
    "    new_noise_dict = noise_dict_template.copy()\n",
    "    new_noise_dict['Noise Spectral Density'] = sn\n",
    "    new_noise_dict['Transfer Function'] = H\n",
    "    return new_noise_dict\n",
    "\n",
    "def add_noise(sn,H_expr,noise_list):\n",
    "    noise_list.append(new_noise(sn,H_expr))"
   ]
  },
  {
   "cell_type": "markdown",
   "metadata": {},
   "source": [
    "### Cn1"
   ]
  },
  {
   "cell_type": "code",
   "execution_count": 501,
   "metadata": {},
   "outputs": [
    {
     "name": "stdout",
     "output_type": "stream",
     "text": [
      "Noise Spectral Density:\n",
      "(16):\n"
     ]
    },
    {
     "data": {
      "text/latex": [
       "$\\displaystyle S_{TN(Z_{ref}),v} = 4 T k \\operatorname{re}{\\left(Z_{ref}\\right)}$"
      ],
      "text/plain": [
       "Eq(S_{TN(Z_{ref}),v}, 4*T*k*re(Z_{ref}))"
      ]
     },
     "metadata": {},
     "output_type": "display_data"
    },
    {
     "name": "stdout",
     "output_type": "stream",
     "text": [
      "\n",
      "Transfer Function:\n",
      "(17):\n"
     ]
    },
    {
     "data": {
      "text/latex": [
       "$\\displaystyle H_{TN(Z_{ref}),v}(s) = \\frac{A_{OP1}}{A_{OP1} + 1}$"
      ],
      "text/plain": [
       "Eq(H_{TN(Z_{ref}),v}(s), A_OP1/(A_OP1 + 1))"
      ]
     },
     "metadata": {},
     "output_type": "display_data"
    },
    {
     "name": "stdout",
     "output_type": "stream",
     "text": [
      "\n",
      "\n",
      "Noise Spectral Density:\n",
      "(18):\n"
     ]
    },
    {
     "data": {
      "text/latex": [
       "$\\displaystyle S_{n,v_{in},OP1}(\\omega) = S_{n,v_{in},white,OP1} + \\frac{2 S_{n,v_{in},white,OP1} \\pi f_{c,n,v_{in},OP1}}{\\omega}$"
      ],
      "text/plain": [
       "Eq(S_{n,v_{in},OP1}(\\omega), S_{n,v_{in},white,OP1} + 2*S_{n,v_{in},white,OP1}*pi*f_{c,n,v_{in},OP1}/\\omega)"
      ]
     },
     "metadata": {},
     "output_type": "display_data"
    },
    {
     "name": "stdout",
     "output_type": "stream",
     "text": [
      "\n",
      "Transfer Function:\n",
      "(19):\n"
     ]
    },
    {
     "data": {
      "text/latex": [
       "$\\displaystyle H_{n,v_{in},OP1}(\\omega)(s) = \\frac{A_{OP1}}{A_{OP1} + 1}$"
      ],
      "text/plain": [
       "Eq(H_{n,v_{in},OP1}(\\omega)(s), A_OP1/(A_OP1 + 1))"
      ]
     },
     "metadata": {},
     "output_type": "display_data"
    },
    {
     "name": "stdout",
     "output_type": "stream",
     "text": [
      "\n",
      "\n",
      "Noise Spectral Density:\n",
      "(20):\n"
     ]
    },
    {
     "data": {
      "text/latex": [
       "$\\displaystyle S_{n,i_{in},OP1}(\\omega) = S_{n,i_{in},white,OP1} + \\frac{2 S_{n,i_{in},white,OP1} \\pi f_{c,n,i_{in},OP1}}{\\omega}$"
      ],
      "text/plain": [
       "Eq(S_{n,i_{in},OP1}(\\omega), S_{n,i_{in},white,OP1} + 2*S_{n,i_{in},white,OP1}*pi*f_{c,n,i_{in},OP1}/\\omega)"
      ]
     },
     "metadata": {},
     "output_type": "display_data"
    },
    {
     "name": "stdout",
     "output_type": "stream",
     "text": [
      "\n",
      "Transfer Function:\n",
      "(21):\n"
     ]
    },
    {
     "data": {
      "text/latex": [
       "$\\displaystyle H_{n,i_{in},OP1}(\\omega)(s) = - \\frac{A_{OP1} Z_{in}}{A_{OP1} + 1}$"
      ],
      "text/plain": [
       "Eq(H_{n,i_{in},OP1}(\\omega)(s), -A_OP1*Z_{in}/(A_OP1 + 1))"
      ]
     },
     "metadata": {},
     "output_type": "display_data"
    },
    {
     "name": "stdout",
     "output_type": "stream",
     "text": [
      "\n",
      "\n",
      "Noise Spectral Density:\n",
      "(22):\n"
     ]
    },
    {
     "data": {
      "text/latex": [
       "$\\displaystyle S_{n,i_{in},OP1}(\\omega) = S_{n,i_{in},white,OP1} + \\frac{2 S_{n,i_{in},white,OP1} \\pi f_{c,n,i_{in},OP1}}{\\omega}$"
      ],
      "text/plain": [
       "Eq(S_{n,i_{in},OP1}(\\omega), S_{n,i_{in},white,OP1} + 2*S_{n,i_{in},white,OP1}*pi*f_{c,n,i_{in},OP1}/\\omega)"
      ]
     },
     "metadata": {},
     "output_type": "display_data"
    },
    {
     "name": "stdout",
     "output_type": "stream",
     "text": [
      "\n",
      "Transfer Function:\n",
      "(23):\n"
     ]
    },
    {
     "data": {
      "text/latex": [
       "$\\displaystyle H_{n,i_{in},OP1}(\\omega)(s) = - \\frac{A_{OP1} Z_{in}}{A_{OP1} + 1}$"
      ],
      "text/plain": [
       "Eq(H_{n,i_{in},OP1}(\\omega)(s), -A_OP1*Z_{in}/(A_OP1 + 1))"
      ]
     },
     "metadata": {},
     "output_type": "display_data"
    },
    {
     "name": "stdout",
     "output_type": "stream",
     "text": [
      "\n",
      "\n",
      "Noise Spectral Density:\n",
      "(24):\n"
     ]
    },
    {
     "data": {
      "text/latex": [
       "$\\displaystyle S_{TN(Z_{in}),v} = 4 T k \\operatorname{re}{\\left(Z_{in}\\right)}$"
      ],
      "text/plain": [
       "Eq(S_{TN(Z_{in}),v}, 4*T*k*re(Z_{in}))"
      ]
     },
     "metadata": {},
     "output_type": "display_data"
    },
    {
     "name": "stdout",
     "output_type": "stream",
     "text": [
      "\n",
      "Transfer Function:\n",
      "(25):\n"
     ]
    },
    {
     "data": {
      "text/latex": [
       "$\\displaystyle H_{TN(Z_{in}),v}(s) = 1$"
      ],
      "text/plain": [
       "Eq(H_{TN(Z_{in}),v}(s), 1)"
      ]
     },
     "metadata": {},
     "output_type": "display_data"
    },
    {
     "name": "stdout",
     "output_type": "stream",
     "text": [
      "\n",
      "\n",
      "Noise Spectral Density:\n",
      "(26):\n"
     ]
    },
    {
     "data": {
      "text/latex": [
       "$\\displaystyle S_{n,i_{in},OP2}(\\omega) = S_{n,i_{in},white,OP2} + \\frac{2 S_{n,i_{in},white,OP2} \\pi f_{c,n,i_{in},OP2}}{\\omega}$"
      ],
      "text/plain": [
       "Eq(S_{n,i_{in},OP2}(\\omega), S_{n,i_{in},white,OP2} + 2*S_{n,i_{in},white,OP2}*pi*f_{c,n,i_{in},OP2}/\\omega)"
      ]
     },
     "metadata": {},
     "output_type": "display_data"
    },
    {
     "name": "stdout",
     "output_type": "stream",
     "text": [
      "\n",
      "Transfer Function:\n",
      "(27):\n"
     ]
    },
    {
     "data": {
      "text/latex": [
       "$\\displaystyle H_{n,i_{in},OP2}(\\omega)(s) = - \\frac{A_{OP1} Z_{in}}{A_{OP1} + 1}$"
      ],
      "text/plain": [
       "Eq(H_{n,i_{in},OP2}(\\omega)(s), -A_OP1*Z_{in}/(A_OP1 + 1))"
      ]
     },
     "metadata": {},
     "output_type": "display_data"
    },
    {
     "name": "stdout",
     "output_type": "stream",
     "text": [
      "\n",
      "\n"
     ]
    }
   ],
   "source": [
    "cn1_list = []\n",
    "def add_cn1_noise(sn,H_expr):\n",
    "    add_noise(sn,H_expr,cn1_list)\n",
    "\n",
    "Z_in = MySymbol('Z_{in}',parallel_impedance(R1,C1s))\n",
    "Z_ref = MySymbol('Z_{ref}',parallel_impedance(R2,C2s))\n",
    "\n",
    "add_cn1_noise(new_thermal_v_sd(Z_ref),OP1.A/(1+OP1.A))\n",
    "add_cn1_noise(OP1.s_n_v_in_1_omega_white,OP1.A/(1+OP1.A))\n",
    "add_cn1_noise(OP1.s_n_i_in_1_omega_white,Z_ref*OP1.A/(1+OP1.A))\n",
    "add_cn1_noise(OP1.s_n_i_in_1_omega_white,-Z_in*OP1.A/(1+OP1.A))\n",
    "add_cn1_noise(new_thermal_v_sd(Z_in),1)\n",
    "add_cn1_noise(OP2.s_n_i_in_1_omega_white,-Z_in*OP1.A/(1+OP1.A))\n",
    "\n",
    "for noise in cn1_list:\n",
    "    for name,symb in noise.items():\n",
    "        print(name+':')\n",
    "        symb.print_expr()\n",
    "    print()"
   ]
  }
 ],
 "metadata": {
  "kernelspec": {
   "display_name": "Python 3.9.6 ('.venv': venv)",
   "language": "python",
   "name": "python3"
  },
  "language_info": {
   "codemirror_mode": {
    "name": "ipython",
    "version": 3
   },
   "file_extension": ".py",
   "mimetype": "text/x-python",
   "name": "python",
   "nbconvert_exporter": "python",
   "pygments_lexer": "ipython3",
   "version": "3.9.6"
  },
  "orig_nbformat": 4,
  "vscode": {
   "interpreter": {
    "hash": "e4d93bdb978bc92b95fd1097b09603f1192ac20c9650fdfa9dcb64363784201d"
   }
  }
 },
 "nbformat": 4,
 "nbformat_minor": 2
}
